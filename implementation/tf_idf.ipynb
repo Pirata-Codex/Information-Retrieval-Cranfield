{
 "cells": [
  {
   "cell_type": "code",
   "execution_count": 1,
   "metadata": {},
   "outputs": [
    {
     "name": "stdout",
     "output_type": "stream",
     "text": [
      ".I 1\n",
      "\n",
      ".T\n",
      "\n",
      "experimental investigation of the aerodynamics of a\n",
      "\n",
      "wing in a slipstream .\n",
      "\n"
     ]
    }
   ],
   "source": [
    "#Testing the existence of the file\n",
    "f = open(\"../cran/cran.all.1400\",\"r\")\n",
    "# if the file mode is set on reading\n",
    "if f.mode == 'r':\n",
    "    # print 4 the first 4 lines\n",
    "    for i in range(0,4):\n",
    "        print(f.readline())\n",
    "f.close()"
   ]
  },
  {
   "cell_type": "code",
   "execution_count": 2,
   "metadata": {},
   "outputs": [],
   "source": [
    "f = open(\"../cran/cran.all.1400\",\"r\")\n",
    "# split each line of the file into a list\n",
    "data = f.readlines()\n",
    "# make a copy for rainy day\n",
    "copy = data\n",
    "# data"
   ]
  },
  {
   "cell_type": "code",
   "execution_count": 3,
   "metadata": {},
   "outputs": [],
   "source": [
    "# import regular expression library\n",
    "import re\n",
    "data = copy\n",
    "ptr = []\n",
    "temp = []\n",
    "x = ''\n",
    "for sentence in data:\n",
    "    # pattern to find either tags [.W, .T, .B, .A except .I with its numbers]\n",
    "    ptr = re.findall(\"^\\.[A-Z]\\s*$\", sentence)\n",
    "    # pattern to find .I cases which are followed by document numbers\n",
    "    newdoc = re.findall(\"^\\.[A-Z]\\s[0-9]+\", sentence)\n",
    "    # the reason of creating 2 patterns is to divide each document into an index of a list\n",
    "    if ptr:\n",
    "        x = sentence.replace(ptr[0],\"\")\n",
    "    elif newdoc:\n",
    "        temp.append(x)\n",
    "        x = ''\n",
    "    else:\n",
    "        x += sentence\n",
    "temp.pop(0)\n",
    "temp.append(x)\n",
    "for i in range(len(temp)):\n",
    "    # remove any non-alphanumeric characters\n",
    "    temp[i] = re.sub(r'[^A-Za-z0-9\\s]',' ',temp[i])\n",
    "\n",
    "# Tokenizing \n",
    "token = []\n",
    "for i in range(0,len(temp)):\n",
    "    token.append(temp[i].split())"
   ]
  },
  {
   "cell_type": "code",
   "execution_count": 4,
   "metadata": {},
   "outputs": [],
   "source": [
    "# Stemming and removing stopwords\n",
    "from nltk.corpus import stopwords\n",
    "stopwords = set(stopwords.words('english'))\n",
    "# Using porter-stemmer to stem each non-stopword words\n",
    "from nltk.stem import PorterStemmer\n",
    "ps = PorterStemmer()\n",
    "ps_token = token\n",
    "# repeat the loop 4 times to make sure there is nothing left\n",
    "for c in range(0,4):\n",
    "    for i in range(len(ps_token)):\n",
    "        for j in range(len(ps_token[i])):\n",
    "            if j == len(ps_token[i]):\n",
    "                break\n",
    "            if (ps_token[i][j] in stopwords):\n",
    "                del ps_token[i][j]\n",
    "            else:\n",
    "                ps_token[i][j] = ps.stem(ps_token[i][j])\n",
    "            if j == len(ps_token[i]):\n",
    "                break"
   ]
  },
  {
   "cell_type": "code",
   "execution_count": 5,
   "metadata": {},
   "outputs": [
    {
     "data": {
      "text/plain": [
       "132420"
      ]
     },
     "execution_count": 5,
     "metadata": {},
     "output_type": "execute_result"
    }
   ],
   "source": [
    "# counting the number of tokens\n",
    "sum_ = 0\n",
    "for i in range(len(token)):\n",
    "    sum_ += len(token[i])\n",
    "sum_"
   ]
  },
  {
   "cell_type": "code",
   "execution_count": 6,
   "metadata": {},
   "outputs": [
    {
     "name": "stdout",
     "output_type": "stream",
     "text": [
      "*** Introductory Examples for the NLTK Book ***\n",
      "Loading text1, ..., text9 and sent1, ..., sent9\n",
      "Type the name of the text or sentence to view it.\n",
      "Type: 'texts()' or 'sents()' to list the materials.\n",
      "text1: Moby Dick by Herman Melville 1851\n",
      "text2: Sense and Sensibility by Jane Austen 1811\n",
      "text3: The Book of Genesis\n",
      "text4: Inaugural Address Corpus\n",
      "text5: Chat Corpus\n",
      "text6: Monty Python and the Holy Grail\n",
      "text7: Wall Street Journal\n",
      "text8: Personals Corpus\n",
      "text9: The Man Who Was Thursday by G . K . Chesterton 1908\n"
     ]
    }
   ],
   "source": [
    "# using frequency distribution to get each type's repeats in the dataset\n",
    "from nltk.book import FreqDist\n",
    "total_ps_tokens = []\n",
    "for i in range(0,len(ps_token)):\n",
    "    for j in range(0,len(ps_token[i])):\n",
    "        total_ps_tokens.append(ps_token[i][j])\n",
    "tokenized = FreqDist(total_ps_tokens)"
   ]
  },
  {
   "cell_type": "code",
   "execution_count": 7,
   "metadata": {},
   "outputs": [
    {
     "data": {
      "text/plain": [
       "1400"
      ]
     },
     "execution_count": 7,
     "metadata": {},
     "output_type": "execute_result"
    }
   ],
   "source": [
    "len(ps_token)"
   ]
  },
  {
   "cell_type": "code",
   "execution_count": 8,
   "metadata": {},
   "outputs": [
    {
     "name": "stdout",
     "output_type": "stream",
     "text": [
      "4674\n"
     ]
    },
    {
     "data": {
      "text/plain": [
       "'experi'"
      ]
     },
     "execution_count": 8,
     "metadata": {},
     "output_type": "execute_result"
    }
   ],
   "source": [
    "import pandas as pd\n",
    "# Total number of types\n",
    "print(len(tokenized))\n",
    "# Creating a dataframe with the types and their occurrence in the dataset\n",
    "final_df = pd.DataFrame(tokenized.items()).set_index(0)[1]\n",
    "final_df.index[0]"
   ]
  },
  {
   "cell_type": "markdown",
   "metadata": {},
   "source": [
    "<b> Frequency DataFrame"
   ]
  },
  {
   "cell_type": "code",
   "execution_count": 9,
   "metadata": {},
   "outputs": [],
   "source": [
    "# [[0 for i in range(len(ps_token))] for j in range(len(tokenized))]\n",
    "import numpy as np\n",
    "freq = pd.DataFrame(data=0, index=final_df.index ,columns=range(1,1401), dtype=np.int8)"
   ]
  },
  {
   "cell_type": "markdown",
   "metadata": {},
   "source": [
    "<b>Computing Frequency for each document in dataset and then updating the frequency dataframe"
   ]
  },
  {
   "cell_type": "code",
   "execution_count": 10,
   "metadata": {},
   "outputs": [],
   "source": [
    "for c in range(len(ps_token)):\n",
    "    temp_token = FreqDist(ps_token[c])\n",
    "    for i,j in temp_token.items():\n",
    "        freq.at[i,c+1] += j"
   ]
  },
  {
   "cell_type": "markdown",
   "metadata": {},
   "source": [
    "<b>Term Frequency Dataframe"
   ]
  },
  {
   "cell_type": "markdown",
   "metadata": {},
   "source": [
    "<div class=\"alert alert-block alert-info\">\n",
    "<b>Note:</b>  Sparse Matrix may be a more optimized approach for big matrices with too many zeros\n",
    "</div>"
   ]
  },
  {
   "cell_type": "code",
   "execution_count": 11,
   "metadata": {},
   "outputs": [
    {
     "name": "stdout",
     "output_type": "stream",
     "text": [
      "<class 'pandas.core.frame.DataFrame'>\n",
      "Index: 4674 entries, experi to ob\n",
      "Columns: 1400 entries, 1 to 1400\n",
      "dtypes: float16(1400)\n",
      "memory usage: 12.7+ MB\n"
     ]
    }
   ],
   "source": [
    "tf = pd.DataFrame(data=0, index=(final_df.index) ,columns=range(1,len(ps_token)+1), dtype=np.float16)\n",
    "tf.info()"
   ]
  },
  {
   "cell_type": "markdown",
   "metadata": {},
   "source": [
    "$ tf = \\frac {T}{L} $\n",
    "<br>T: is Number of Occurrence for a Given Term\n",
    "<br>L: Document Length"
   ]
  },
  {
   "cell_type": "code",
   "execution_count": 12,
   "metadata": {},
   "outputs": [],
   "source": [
    "for row in range(len(tf.index)):\n",
    "    for col in range(1,len(ps_token)+1):\n",
    "        # skip 0 values\n",
    "        if freq.at[freq.index[row],col] > 0:\n",
    "            tf.at[tf.index[row],col] = float(freq.at[freq.index[row],col] / len(set(ps_token[col-1])))"
   ]
  },
  {
   "cell_type": "code",
   "execution_count": 13,
   "metadata": {},
   "outputs": [
    {
     "data": {
      "text/html": [
       "<div>\n",
       "<style scoped>\n",
       "    .dataframe tbody tr th:only-of-type {\n",
       "        vertical-align: middle;\n",
       "    }\n",
       "\n",
       "    .dataframe tbody tr th {\n",
       "        vertical-align: top;\n",
       "    }\n",
       "\n",
       "    .dataframe thead th {\n",
       "        text-align: right;\n",
       "    }\n",
       "</style>\n",
       "<table border=\"1\" class=\"dataframe\">\n",
       "  <thead>\n",
       "    <tr style=\"text-align: right;\">\n",
       "      <th></th>\n",
       "      <th>1</th>\n",
       "      <th>2</th>\n",
       "      <th>3</th>\n",
       "      <th>4</th>\n",
       "      <th>5</th>\n",
       "      <th>6</th>\n",
       "      <th>7</th>\n",
       "      <th>8</th>\n",
       "      <th>9</th>\n",
       "      <th>10</th>\n",
       "      <th>...</th>\n",
       "      <th>1391</th>\n",
       "      <th>1392</th>\n",
       "      <th>1393</th>\n",
       "      <th>1394</th>\n",
       "      <th>1395</th>\n",
       "      <th>1396</th>\n",
       "      <th>1397</th>\n",
       "      <th>1398</th>\n",
       "      <th>1399</th>\n",
       "      <th>1400</th>\n",
       "    </tr>\n",
       "    <tr>\n",
       "      <th>0</th>\n",
       "      <th></th>\n",
       "      <th></th>\n",
       "      <th></th>\n",
       "      <th></th>\n",
       "      <th></th>\n",
       "      <th></th>\n",
       "      <th></th>\n",
       "      <th></th>\n",
       "      <th></th>\n",
       "      <th></th>\n",
       "      <th></th>\n",
       "      <th></th>\n",
       "      <th></th>\n",
       "      <th></th>\n",
       "      <th></th>\n",
       "      <th></th>\n",
       "      <th></th>\n",
       "      <th></th>\n",
       "      <th></th>\n",
       "      <th></th>\n",
       "      <th></th>\n",
       "    </tr>\n",
       "  </thead>\n",
       "  <tbody>\n",
       "    <tr>\n",
       "      <th>experi</th>\n",
       "      <td>0.051727</td>\n",
       "      <td>0.000000</td>\n",
       "      <td>0.0</td>\n",
       "      <td>0.0</td>\n",
       "      <td>0.000000</td>\n",
       "      <td>0.0</td>\n",
       "      <td>0.010635</td>\n",
       "      <td>0.000000</td>\n",
       "      <td>0.000000</td>\n",
       "      <td>0.0</td>\n",
       "      <td>...</td>\n",
       "      <td>0.000000</td>\n",
       "      <td>0.01075</td>\n",
       "      <td>0.000000</td>\n",
       "      <td>0.0</td>\n",
       "      <td>0.000000</td>\n",
       "      <td>0.022217</td>\n",
       "      <td>0.028564</td>\n",
       "      <td>0.0</td>\n",
       "      <td>0.0</td>\n",
       "      <td>0.000000</td>\n",
       "    </tr>\n",
       "    <tr>\n",
       "      <th>investig</th>\n",
       "      <td>0.017242</td>\n",
       "      <td>0.014923</td>\n",
       "      <td>0.0</td>\n",
       "      <td>0.0</td>\n",
       "      <td>0.000000</td>\n",
       "      <td>0.0</td>\n",
       "      <td>0.010635</td>\n",
       "      <td>0.016129</td>\n",
       "      <td>0.027527</td>\n",
       "      <td>0.0</td>\n",
       "      <td>...</td>\n",
       "      <td>0.000000</td>\n",
       "      <td>0.00000</td>\n",
       "      <td>0.015381</td>\n",
       "      <td>0.0</td>\n",
       "      <td>0.020828</td>\n",
       "      <td>0.000000</td>\n",
       "      <td>0.000000</td>\n",
       "      <td>0.0</td>\n",
       "      <td>0.0</td>\n",
       "      <td>0.023804</td>\n",
       "    </tr>\n",
       "    <tr>\n",
       "      <th>aerodynam</th>\n",
       "      <td>0.017242</td>\n",
       "      <td>0.000000</td>\n",
       "      <td>0.0</td>\n",
       "      <td>0.0</td>\n",
       "      <td>0.037048</td>\n",
       "      <td>0.0</td>\n",
       "      <td>0.000000</td>\n",
       "      <td>0.000000</td>\n",
       "      <td>0.000000</td>\n",
       "      <td>0.0</td>\n",
       "      <td>...</td>\n",
       "      <td>0.011627</td>\n",
       "      <td>0.00000</td>\n",
       "      <td>0.000000</td>\n",
       "      <td>0.0</td>\n",
       "      <td>0.000000</td>\n",
       "      <td>0.000000</td>\n",
       "      <td>0.000000</td>\n",
       "      <td>0.0</td>\n",
       "      <td>0.0</td>\n",
       "      <td>0.000000</td>\n",
       "    </tr>\n",
       "    <tr>\n",
       "      <th>wing</th>\n",
       "      <td>0.051727</td>\n",
       "      <td>0.000000</td>\n",
       "      <td>0.0</td>\n",
       "      <td>0.0</td>\n",
       "      <td>0.000000</td>\n",
       "      <td>0.0</td>\n",
       "      <td>0.000000</td>\n",
       "      <td>0.000000</td>\n",
       "      <td>0.000000</td>\n",
       "      <td>0.0</td>\n",
       "      <td>...</td>\n",
       "      <td>0.000000</td>\n",
       "      <td>0.00000</td>\n",
       "      <td>0.000000</td>\n",
       "      <td>0.0</td>\n",
       "      <td>0.000000</td>\n",
       "      <td>0.000000</td>\n",
       "      <td>0.000000</td>\n",
       "      <td>0.0</td>\n",
       "      <td>0.0</td>\n",
       "      <td>0.000000</td>\n",
       "    </tr>\n",
       "    <tr>\n",
       "      <th>slipstream</th>\n",
       "      <td>0.086182</td>\n",
       "      <td>0.000000</td>\n",
       "      <td>0.0</td>\n",
       "      <td>0.0</td>\n",
       "      <td>0.000000</td>\n",
       "      <td>0.0</td>\n",
       "      <td>0.000000</td>\n",
       "      <td>0.000000</td>\n",
       "      <td>0.000000</td>\n",
       "      <td>0.0</td>\n",
       "      <td>...</td>\n",
       "      <td>0.000000</td>\n",
       "      <td>0.00000</td>\n",
       "      <td>0.000000</td>\n",
       "      <td>0.0</td>\n",
       "      <td>0.000000</td>\n",
       "      <td>0.000000</td>\n",
       "      <td>0.000000</td>\n",
       "      <td>0.0</td>\n",
       "      <td>0.0</td>\n",
       "      <td>0.000000</td>\n",
       "    </tr>\n",
       "  </tbody>\n",
       "</table>\n",
       "<p>5 rows × 1400 columns</p>\n",
       "</div>"
      ],
      "text/plain": [
       "                1         2     3     4         5     6         7     \\\n",
       "0                                                                      \n",
       "experi      0.051727  0.000000   0.0   0.0  0.000000   0.0  0.010635   \n",
       "investig    0.017242  0.014923   0.0   0.0  0.000000   0.0  0.010635   \n",
       "aerodynam   0.017242  0.000000   0.0   0.0  0.037048   0.0  0.000000   \n",
       "wing        0.051727  0.000000   0.0   0.0  0.000000   0.0  0.000000   \n",
       "slipstream  0.086182  0.000000   0.0   0.0  0.000000   0.0  0.000000   \n",
       "\n",
       "                8         9     10    ...      1391     1392      1393  1394  \\\n",
       "0                                     ...                                      \n",
       "experi      0.000000  0.000000   0.0  ...  0.000000  0.01075  0.000000   0.0   \n",
       "investig    0.016129  0.027527   0.0  ...  0.000000  0.00000  0.015381   0.0   \n",
       "aerodynam   0.000000  0.000000   0.0  ...  0.011627  0.00000  0.000000   0.0   \n",
       "wing        0.000000  0.000000   0.0  ...  0.000000  0.00000  0.000000   0.0   \n",
       "slipstream  0.000000  0.000000   0.0  ...  0.000000  0.00000  0.000000   0.0   \n",
       "\n",
       "                1395      1396      1397  1398  1399      1400  \n",
       "0                                                               \n",
       "experi      0.000000  0.022217  0.028564   0.0   0.0  0.000000  \n",
       "investig    0.020828  0.000000  0.000000   0.0   0.0  0.023804  \n",
       "aerodynam   0.000000  0.000000  0.000000   0.0   0.0  0.000000  \n",
       "wing        0.000000  0.000000  0.000000   0.0   0.0  0.000000  \n",
       "slipstream  0.000000  0.000000  0.000000   0.0   0.0  0.000000  \n",
       "\n",
       "[5 rows x 1400 columns]"
      ]
     },
     "execution_count": 13,
     "metadata": {},
     "output_type": "execute_result"
    }
   ],
   "source": [
    "tf.head()"
   ]
  },
  {
   "cell_type": "markdown",
   "metadata": {},
   "source": [
    "<p><b/>Inverse Document Frequency Dataframe</p>"
   ]
  },
  {
   "cell_type": "code",
   "execution_count": 14,
   "metadata": {},
   "outputs": [
    {
     "name": "stdout",
     "output_type": "stream",
     "text": [
      "<class 'pandas.core.frame.DataFrame'>\n",
      "Index: 4674 entries, experi to ob\n",
      "Data columns (total 2 columns):\n",
      " #   Column  Non-Null Count  Dtype  \n",
      "---  ------  --------------  -----  \n",
      " 0   IDF     4674 non-null   float16\n",
      " 1   Count   4674 non-null   float16\n",
      "dtypes: float16(2)\n",
      "memory usage: 214.8+ KB\n"
     ]
    }
   ],
   "source": [
    "idf = pd.DataFrame(data=0,index=(final_df.index),columns=['IDF','Count'], dtype=np.float16)\n",
    "idf.info()"
   ]
  },
  {
   "cell_type": "markdown",
   "metadata": {},
   "source": [
    "$$ idf = log_{10}\\frac{N}{n}$$\n",
    "<br><b>N: Number of total documents\n",
    "<br><b>n: Number of documents that the given term exists in them"
   ]
  },
  {
   "cell_type": "code",
   "execution_count": 15,
   "metadata": {},
   "outputs": [],
   "source": [
    "from math import log10\n",
    "for row in range(len(tf.index)):\n",
    "    c = 0\n",
    "    for col in range(1,len(ps_token)+1):\n",
    "        if tf.at[tf.index[row],col] > 0:\n",
    "            c+=1\n",
    "    if c > 0:\n",
    "        idf.at[idf.index[row],'IDF'] = log10(1400 / c)\n",
    "        idf.at[idf.index[row],'Count'] = c"
   ]
  },
  {
   "cell_type": "code",
   "execution_count": 16,
   "metadata": {},
   "outputs": [
    {
     "data": {
      "text/html": [
       "<div>\n",
       "<style scoped>\n",
       "    .dataframe tbody tr th:only-of-type {\n",
       "        vertical-align: middle;\n",
       "    }\n",
       "\n",
       "    .dataframe tbody tr th {\n",
       "        vertical-align: top;\n",
       "    }\n",
       "\n",
       "    .dataframe thead th {\n",
       "        text-align: right;\n",
       "    }\n",
       "</style>\n",
       "<table border=\"1\" class=\"dataframe\">\n",
       "  <thead>\n",
       "    <tr style=\"text-align: right;\">\n",
       "      <th></th>\n",
       "      <th>IDF</th>\n",
       "      <th>Count</th>\n",
       "    </tr>\n",
       "    <tr>\n",
       "      <th>0</th>\n",
       "      <th></th>\n",
       "      <th></th>\n",
       "    </tr>\n",
       "  </thead>\n",
       "  <tbody>\n",
       "    <tr>\n",
       "      <th>experi</th>\n",
       "      <td>0.533203</td>\n",
       "      <td>410.0</td>\n",
       "    </tr>\n",
       "    <tr>\n",
       "      <th>investig</th>\n",
       "      <td>0.588379</td>\n",
       "      <td>361.0</td>\n",
       "    </tr>\n",
       "    <tr>\n",
       "      <th>aerodynam</th>\n",
       "      <td>0.893066</td>\n",
       "      <td>179.0</td>\n",
       "    </tr>\n",
       "    <tr>\n",
       "      <th>wing</th>\n",
       "      <td>0.791992</td>\n",
       "      <td>226.0</td>\n",
       "    </tr>\n",
       "    <tr>\n",
       "      <th>slipstream</th>\n",
       "      <td>1.969727</td>\n",
       "      <td>15.0</td>\n",
       "    </tr>\n",
       "  </tbody>\n",
       "</table>\n",
       "</div>"
      ],
      "text/plain": [
       "                 IDF  Count\n",
       "0                          \n",
       "experi      0.533203  410.0\n",
       "investig    0.588379  361.0\n",
       "aerodynam   0.893066  179.0\n",
       "wing        0.791992  226.0\n",
       "slipstream  1.969727   15.0"
      ]
     },
     "execution_count": 16,
     "metadata": {},
     "output_type": "execute_result"
    }
   ],
   "source": [
    "idf.head()"
   ]
  },
  {
   "cell_type": "markdown",
   "metadata": {},
   "source": [
    "<b> Testing the gained results for one query"
   ]
  },
  {
   "cell_type": "code",
   "execution_count": 17,
   "metadata": {},
   "outputs": [
    {
     "name": "stdout",
     "output_type": "stream",
     "text": [
      "['anyon', 'formal', 'determin', 'influenc', 'joul', 'heat', 'produc', 'induc', 'current', 'magnetohydrodynam', 'free', 'convect', 'flow', 'gener', 'condit']\n"
     ]
    }
   ],
   "source": [
    "qry = 'has anyone formally determined the influence of joule heating produced by the induced current in magnetohydrodynamic free convection flows under general conditions .'\n",
    "akyc = qry.split()\n",
    "for i in range(0,2):\n",
    "    for i in akyc:\n",
    "        if i in stopwords:\n",
    "            akyc.remove(i)\n",
    "akyc.pop(len(akyc)-1)\n",
    "for i in range(len(akyc)):\n",
    "    akyc[i] = ps.stem(akyc[i])\n",
    "\n",
    "print(akyc)"
   ]
  },
  {
   "cell_type": "code",
   "execution_count": 18,
   "metadata": {},
   "outputs": [
    {
     "data": {
      "text/plain": [
       "1400"
      ]
     },
     "execution_count": 18,
     "metadata": {},
     "output_type": "execute_result"
    }
   ],
   "source": [
    "# 0 for i in range(len(ps_token))\n",
    "tlst = pd.DataFrame(data=0,index=range(1, len(ps_token)+1),columns=['Query1'],dtype=np.float16)\n",
    "tlst.size"
   ]
  },
  {
   "cell_type": "code",
   "execution_count": 19,
   "metadata": {},
   "outputs": [
    {
     "name": "stdout",
     "output_type": "stream",
     "text": [
      "0.533 0.05173\n",
      "experi experi\n"
     ]
    }
   ],
   "source": [
    "for j in range(1, len(ps_token)+1):\n",
    "    sum_ = 0.0\n",
    "    for i in akyc:\n",
    "        if i in tf.index:\n",
    "            if tf.loc[i][j] != 0:\n",
    "                sum_ += tf.at[i,j] * idf.at[i,'IDF']\n",
    "    tlst.at[j,'Query1'] = sum_\n",
    "tlst.head()\n",
    "print(idf.at[idf.index[0],'IDF'],tf.at[tf.index[0],1])\n",
    "print(idf.index[0],tf.index[0])"
   ]
  },
  {
   "cell_type": "code",
   "execution_count": 20,
   "metadata": {},
   "outputs": [
    {
     "name": "stdout",
     "output_type": "stream",
     "text": [
      "0.03754\n",
      "       Query1\n",
      "500  0.484863\n",
      "407  0.333008\n",
      "268  0.327148\n",
      "270  0.279785\n",
      "88   0.277344\n",
      "0.0\t0.0\t0.0\t0.0\t0.0\t0.0\t0.0\t0.0\t0.0\t0.0\t0.0\t0.0\t0.0\t0.0\t\n",
      "anyon\tformal\tdetermin\tinfluenc\tjoul\theat\tproduc\tinduc\tcurrent\tmagnetohydrodynam\tfree\tconvect\tflow\tgener\tcondit\t\n",
      "2.447\t0.669\t1.142\t3.146\t0.6616\t1.254\t1.283\t1.641\t1.748\t0.8096\t1.493\t0.284\t0.6274\t0.6235\t"
     ]
    }
   ],
   "source": [
    "tlst = tlst.sort_values(by=['Query1'],ascending=False)\n",
    "print(tlst.at[27,'Query1'])\n",
    "print(tlst.head(5))\n",
    "for i in akyc:\n",
    "    if i in ps_token[577]:\n",
    "        print(i)    \n",
    "for i in akyc:\n",
    "    if i in idf.index:\n",
    "        print(tf.at[i,578], end='\\t')\n",
    "print()\n",
    "for i in akyc:\n",
    "    print(i, end='\\t')\n",
    "print()\n",
    "for i in akyc:\n",
    "    if i in idf.index:\n",
    "        print(idf.at[i,'IDF'], end='\\t')\n",
    "# print(tf_idf.at['high',578],tf_idf.at['speed',578])"
   ]
  },
  {
   "cell_type": "markdown",
   "metadata": {},
   "source": [
    "<b>Importing relevance-judgements"
   ]
  },
  {
   "cell_type": "code",
   "execution_count": 21,
   "metadata": {},
   "outputs": [],
   "source": [
    "f = open(\"relevant\",\"r\")\n",
    "relevant = []\n",
    "raw_file = f.readlines()\n",
    "f.close()\n",
    "temp0 = temp1 = raw_file[0].split()\n",
    "tmp = []\n",
    "for i in raw_file:\n",
    "    if temp0[0] == temp1[0]:\n",
    "        tmp.append(int(temp1[1]))\n",
    "    else:\n",
    "        relevant.append(tmp)\n",
    "        temp0 = temp1\n",
    "        tmp = []\n",
    "    temp1 = i.split()\n",
    "relevant.append(tmp)\n",
    "relevant[0].remove(27)"
   ]
  },
  {
   "cell_type": "code",
   "execution_count": 22,
   "metadata": {},
   "outputs": [
    {
     "name": "stdout",
     "output_type": "stream",
     "text": [
      "500 0.4849\n",
      "407 0.333\n",
      "268 0.3271\n",
      "270 0.2798\n",
      "88 0.2773\n"
     ]
    }
   ],
   "source": [
    "for i in range(0,5):\n",
    "    if tlst.index[i] in relevant[9]:\n",
    "        print(tlst.index[i],tlst.at[tlst.index[i],'Query1'])"
   ]
  },
  {
   "cell_type": "markdown",
   "metadata": {},
   "source": [
    "<b> Importing cran.qry"
   ]
  },
  {
   "cell_type": "code",
   "execution_count": 23,
   "metadata": {},
   "outputs": [
    {
     "name": "stdout",
     "output_type": "stream",
     "text": [
      "225\n"
     ]
    },
    {
     "data": {
      "text/plain": [
       "'   what are the structural and aeroelastic problems associated with flight of high speed aircraft   '"
      ]
     },
     "execution_count": 23,
     "metadata": {},
     "output_type": "execute_result"
    }
   ],
   "source": [
    "f = open(\"../cran/cran.qry\",\"r\")\n",
    "raw_file = f.read()\n",
    "raw_file = re.sub(r'[\\n]+',' ',raw_file)\n",
    "raw_file = re.sub(r'\\.[W]|[0-9]+',\"\",raw_file)\n",
    "qr = raw_file.split('.I')\n",
    "qr.pop(0)\n",
    "for i in range(len(qr)):\n",
    "    qr[i] = re.sub(r'[^A-Za-z0-9\\s]',' ',qr[i])\n",
    "print(len(qr))\n",
    "qr[1]"
   ]
  },
  {
   "cell_type": "code",
   "execution_count": 24,
   "metadata": {},
   "outputs": [
    {
     "data": {
      "text/plain": [
       "['what',\n",
       " 'similarity',\n",
       " 'laws',\n",
       " 'must',\n",
       " 'be',\n",
       " 'obeyed',\n",
       " 'when',\n",
       " 'constructing',\n",
       " 'aeroelastic',\n",
       " 'models',\n",
       " 'of',\n",
       " 'heated',\n",
       " 'high',\n",
       " 'speed',\n",
       " 'aircraft']"
      ]
     },
     "execution_count": 24,
     "metadata": {},
     "output_type": "execute_result"
    }
   ],
   "source": [
    "sqr = []\n",
    "for i in range(len(qr)):\n",
    "    sqr.append(qr[i].split())\n",
    "sqr[0]"
   ]
  },
  {
   "cell_type": "markdown",
   "metadata": {},
   "source": [
    "<b>Cleaning the text"
   ]
  },
  {
   "cell_type": "code",
   "execution_count": 25,
   "metadata": {},
   "outputs": [],
   "source": [
    "# All the stopwords plus the dots for ending sentences are going to be removed\n",
    "for c in range(0,4):\n",
    "    for i in range(len(sqr)):\n",
    "        for j in range(len(sqr[i])):\n",
    "            if j == len(sqr[i]):\n",
    "                break\n",
    "            if (sqr[i][j] in stopwords) or (sqr[i][j] == '.'):\n",
    "                del sqr[i][j]\n",
    "            else:\n",
    "                sqr[i][j] = ps.stem(sqr[i][j])\n",
    "            if j == len(sqr[i]):\n",
    "                break"
   ]
  },
  {
   "cell_type": "code",
   "execution_count": 26,
   "metadata": {},
   "outputs": [
    {
     "data": {
      "text/plain": [
       "['similar',\n",
       " 'law',\n",
       " 'must',\n",
       " 'obey',\n",
       " 'construct',\n",
       " 'aeroelast',\n",
       " 'model',\n",
       " 'heat',\n",
       " 'high',\n",
       " 'speed',\n",
       " 'aircraft']"
      ]
     },
     "execution_count": 26,
     "metadata": {},
     "output_type": "execute_result"
    }
   ],
   "source": [
    "sqr[0]"
   ]
  },
  {
   "cell_type": "code",
   "execution_count": 27,
   "metadata": {},
   "outputs": [],
   "source": [
    "lst = []\n",
    "for i in range(len(sqr)):\n",
    "    lst.append(pd.DataFrame(data=0,index=range(1, len(ps_token)+1),columns=[i+1],dtype=np.float16))"
   ]
  },
  {
   "cell_type": "code",
   "execution_count": 28,
   "metadata": {},
   "outputs": [],
   "source": [
    "for i in range(len(lst)):\n",
    "    for j in range(1, len(ps_token)+1):\n",
    "        sum_ = 0.0\n",
    "        for k in sqr[i]:\n",
    "            if k in tf.index:\n",
    "                if tf.loc[k][j] != 0:\n",
    "                    sum_ += tf.at[k,j] * idf.at[k,'IDF']\n",
    "        lst[i].at[j,i+1] = sum_"
   ]
  },
  {
   "cell_type": "code",
   "execution_count": 29,
   "metadata": {},
   "outputs": [],
   "source": [
    "for i in range(len(lst)):\n",
    "    lst[i] = lst[i].sort_values(by=[i+1],ascending=False)"
   ]
  },
  {
   "cell_type": "markdown",
   "metadata": {},
   "source": [
    "<div class=\"alert alert-block alert-info\">\n",
    "    <center><h3>Results in details</h3></center>\n",
    "</div>"
   ]
  },
  {
   "cell_type": "markdown",
   "metadata": {},
   "source": [
    "Just change the `lst` index to see the relevent results for each query"
   ]
  },
  {
   "cell_type": "code",
   "execution_count": 80,
   "metadata": {},
   "outputs": [
    {
     "data": {
      "text/html": [
       "<div>\n",
       "<style scoped>\n",
       "    .dataframe tbody tr th:only-of-type {\n",
       "        vertical-align: middle;\n",
       "    }\n",
       "\n",
       "    .dataframe tbody tr th {\n",
       "        vertical-align: top;\n",
       "    }\n",
       "\n",
       "    .dataframe thead th {\n",
       "        text-align: right;\n",
       "    }\n",
       "</style>\n",
       "<table border=\"1\" class=\"dataframe\">\n",
       "  <thead>\n",
       "    <tr style=\"text-align: right;\">\n",
       "      <th></th>\n",
       "      <th>1</th>\n",
       "    </tr>\n",
       "  </thead>\n",
       "  <tbody>\n",
       "    <tr>\n",
       "      <th>51</th>\n",
       "      <td>0.501465</td>\n",
       "    </tr>\n",
       "    <tr>\n",
       "      <th>879</th>\n",
       "      <td>0.245850</td>\n",
       "    </tr>\n",
       "    <tr>\n",
       "      <th>12</th>\n",
       "      <td>0.229614</td>\n",
       "    </tr>\n",
       "    <tr>\n",
       "      <th>359</th>\n",
       "      <td>0.223755</td>\n",
       "    </tr>\n",
       "    <tr>\n",
       "      <th>878</th>\n",
       "      <td>0.201782</td>\n",
       "    </tr>\n",
       "    <tr>\n",
       "      <th>874</th>\n",
       "      <td>0.200684</td>\n",
       "    </tr>\n",
       "    <tr>\n",
       "      <th>817</th>\n",
       "      <td>0.197266</td>\n",
       "    </tr>\n",
       "    <tr>\n",
       "      <th>184</th>\n",
       "      <td>0.193726</td>\n",
       "    </tr>\n",
       "    <tr>\n",
       "      <th>13</th>\n",
       "      <td>0.181885</td>\n",
       "    </tr>\n",
       "    <tr>\n",
       "      <th>486</th>\n",
       "      <td>0.180298</td>\n",
       "    </tr>\n",
       "  </tbody>\n",
       "</table>\n",
       "</div>"
      ],
      "text/plain": [
       "            1\n",
       "51   0.501465\n",
       "879  0.245850\n",
       "12   0.229614\n",
       "359  0.223755\n",
       "878  0.201782\n",
       "874  0.200684\n",
       "817  0.197266\n",
       "184  0.193726\n",
       "13   0.181885\n",
       "486  0.180298"
      ]
     },
     "execution_count": 80,
     "metadata": {},
     "output_type": "execute_result"
    }
   ],
   "source": [
    "lst[0].head(10)"
   ]
  },
  {
   "cell_type": "markdown",
   "metadata": {},
   "source": [
    "Increse the `spread` to check in wider range of relevant docs.\n",
    "<br>`qn` ranges between `0-9`"
   ]
  },
  {
   "cell_type": "code",
   "execution_count": 84,
   "metadata": {},
   "outputs": [
    {
     "name": "stdout",
     "output_type": "stream",
     "text": [
      "1\n"
     ]
    }
   ],
   "source": [
    "spread = 20\n",
    "qn = 7 ## query number\n",
    "pc = 0 ## positive matches\n",
    "for i in np.array(lst[qn].head(spread).index):\n",
    "    if i in relevant[qn]:\n",
    "        pc+=1\n",
    "print(pc)"
   ]
  },
  {
   "cell_type": "markdown",
   "metadata": {},
   "source": [
    "<h3>Validating Queries (just in case)"
   ]
  },
  {
   "cell_type": "code",
   "execution_count": 31,
   "metadata": {},
   "outputs": [
    {
     "data": {
      "text/plain": [
       "10"
      ]
     },
     "execution_count": 31,
     "metadata": {},
     "output_type": "execute_result"
    }
   ],
   "source": [
    "_10qry = []\n",
    "for i in range(len(qr)):\n",
    "    if 'is it possible to find' in qr[i]:\n",
    "        _10qry.append(i)\n",
    "    elif 'how can the aerodynamic ' in qr[i]:\n",
    "        _10qry.append(i)\n",
    "    elif 'what is the basic ' in qr[i]:\n",
    "        _10qry.append(i)\n",
    "    elif 'papers on shock sound' in qr[i]:\n",
    "        _10qry.append(i)\n",
    "    elif 'material properties ' in qr[i]:\n",
    "        _10qry.append(i)\n",
    "    elif 'can the transverse ' in qr[i]:\n",
    "        _10qry.append(i)\n",
    "    elif 'can the three dimensional ' in qr[i]:\n",
    "        _10qry.append(i)\n",
    "    elif 'are experimental pressure ' in qr[i]:\n",
    "        _10qry.append(i)\n",
    "    elif 'does there exist a good basic treatment' in qr[i]:\n",
    "        _10qry.append(i)\n",
    "    elif 'has anyone formally ' in qr[i]:\n",
    "        _10qry.append(i)\n",
    "len(_10qry)"
   ]
  },
  {
   "cell_type": "code",
   "execution_count": 87,
   "metadata": {},
   "outputs": [
    {
     "name": "stdout",
     "output_type": "stream",
     "text": [
      "================ TF-IDF ================\n"
     ]
    },
    {
     "data": {
      "image/png": "[encoded data removed]",
      "text/plain": [
       "<Figure size 432x288 with 1 Axes>"
      ]
     },
     "metadata": {
      "needs_background": "light"
     },
     "output_type": "display_data"
    },
    {
     "data": {
      "image/png": "[encoded data removed]",
      "text/plain": [
       "<Figure size 432x288 with 1 Axes>"
      ]
     },
     "metadata": {
      "needs_background": "light"
     },
     "output_type": "display_data"
    },
    {
     "data": {
      "image/png": "[encoded data removed]",
      "text/plain": [
       "<Figure size 432x288 with 1 Axes>"
      ]
     },
     "metadata": {
      "needs_background": "light"
     },
     "output_type": "display_data"
    }
   ],
   "source": [
    "import matplotlib.pyplot as plt\n",
    "avg_recall = []\n",
    "avg_precision = []\n",
    "print(\"================ TF-IDF ================\")\n",
    "# from 10 documents to 500 documents calculate precision and recall\n",
    "for N in range(1,501):\n",
    "    precision = []\n",
    "    recall = []\n",
    "    # in each 10 queries\n",
    "    for i in _10qry:\n",
    "        c = 0\n",
    "        for j in range(N):\n",
    "            if lst[i].index[j] in relevant[i%len(_10qry)]:\n",
    "                c+=1\n",
    "        \n",
    "        precision.append(c/N)\n",
    "        recall.append(c/len(relevant[i%len(_10qry)]))\n",
    "    # calculating average recall and precision for each step\n",
    "    avg_precision.append(sum(precision)/len(precision))\n",
    "    avg_recall.append(sum(recall)/len(recall))\n",
    "# precision plot\n",
    "plt.plot(np.arange(1, 501),avg_precision)\n",
    "plt.ylabel('Precision')\n",
    "plt.xlabel('TF-IDF')\n",
    "plt.savefig('precision.png')\n",
    "plt.show()\n",
    "\n",
    "# recall plot\n",
    "plt.plot(np.arange(1, 501),avg_recall)\n",
    "plt.ylabel('Recall')\n",
    "plt.xlabel('TF-IDF')\n",
    "plt.savefig('recall.png')\n",
    "plt.show()\n",
    "\n",
    "# recall over precision plot\n",
    "plt.plot(avg_precision,avg_recall)\n",
    "plt.ylabel('Recall Over Precision')\n",
    "plt.xlabel('TF-IDF')\n",
    "plt.savefig('recall_over_precision.png')\n",
    "plt.show()"
   ]
  },
  {
   "cell_type": "code",
   "execution_count": 33,
   "metadata": {},
   "outputs": [
    {
     "name": "stdout",
     "output_type": "stream",
     "text": [
      "================ TF-IDF ================\n"
     ]
    },
    {
     "data": {
      "image/png": "[encoded data removed]",
      "text/plain": [
       "<Figure size 432x288 with 1 Axes>"
      ]
     },
     "metadata": {
      "needs_background": "light"
     },
     "output_type": "display_data"
    },
    {
     "data": {
      "image/png": "[encoded data removed]",
      "text/plain": [
       "<Figure size 432x288 with 1 Axes>"
      ]
     },
     "metadata": {
      "needs_background": "light"
     },
     "output_type": "display_data"
    }
   ],
   "source": [
    "import matplotlib.pyplot as plt\n",
    "precision = []\n",
    "recall = []\n",
    "N = 10\n",
    "print(\"================ TF-IDF ================\")\n",
    "for i in _10qry:\n",
    "    #print(lst[i].head(N))\n",
    "    c = 0\n",
    "    #print(\"== RELEVANT ==\")\n",
    "    for j in range(N):\n",
    "        if lst[i].index[j] in relevant[i%len(_10qry)]:\n",
    "            #print(lst[i].index[j], end=' ')\n",
    "            c+=1\n",
    "    #print(\"\\n\",relevant[i%len(_10qry)])\n",
    "    #print(\"Query: \",(i%len(_10qry))+1)\n",
    "    #print(\"Precision: \", '{:.3f}'.format(c/N))\n",
    "    #print(\"Recall: \", '{:.3f}'.format(c/len(relevant[i%len(_10qry)])))\n",
    "    precision.append(c/N)\n",
    "    recall.append(c/len(relevant[i%len(_10qry)]))\n",
    "    #print(\"==============\")\n",
    "plt.plot(range(1,len(_10qry)+1),precision)\n",
    "plt.ylabel('Precision for the {:} documents'.format(N))\n",
    "plt.xlabel('TF-IDF')\n",
    "plt.show()\n",
    "plt.plot(range(1,len(_10qry)+1),recall)\n",
    "plt.ylabel('Recall for the {:} documents'.format(N))\n",
    "plt.xlabel('TF-IDF')\n",
    "plt.show()"
   ]
  },
  {
   "cell_type": "code",
   "execution_count": 34,
   "metadata": {},
   "outputs": [
    {
     "name": "stdout",
     "output_type": "stream",
     "text": [
      "================ TF-IDF ================\n"
     ]
    },
    {
     "data": {
      "image/png": "[encoded data removed]",
      "text/plain": [
       "<Figure size 432x288 with 1 Axes>"
      ]
     },
     "metadata": {
      "needs_background": "light"
     },
     "output_type": "display_data"
    },
    {
     "data": {
      "image/png": "[encoded data removed]",
      "text/plain": [
       "<Figure size 432x288 with 1 Axes>"
      ]
     },
     "metadata": {
      "needs_background": "light"
     },
     "output_type": "display_data"
    }
   ],
   "source": [
    "N = 50\n",
    "precision = []\n",
    "recall = []\n",
    "print(\"================ TF-IDF ================\")\n",
    "for i in _10qry:\n",
    "    #print(lst[i].head(N))\n",
    "    c = 0\n",
    "    #print(\"== RELEVANT ==\")\n",
    "    for j in range(N):\n",
    "        if lst[i].index[j] in relevant[i%len(_10qry)]:\n",
    "            #print(lst[i].index[j], end=' ')\n",
    "            c+=1\n",
    "    #print(\"\\n\",relevant[i%len(_10qry)])\n",
    "    #print(\"Query: \",(i%len(_10qry))+1)\n",
    "    #print(\"Precision: \", '{:.3f}'.format(c/N))\n",
    "    #print(\"Recall: \", '{:.3f}'.format(c/len(relevant[i%len(_10qry)])))\n",
    "    precision.append(c/N)\n",
    "    recall.append(c/len(relevant[i%len(_10qry)]))\n",
    "    #print(\"==============\")\n",
    "plt.plot(range(1,len(_10qry)+1),precision)\n",
    "plt.ylabel('Precision for the {:} documents'.format(N))\n",
    "plt.xlabel('TF-IDF')\n",
    "plt.show()\n",
    "plt.plot(range(1,len(_10qry)+1),recall)\n",
    "plt.ylabel('Recall for the {:} documents'.format(N))\n",
    "plt.xlabel('TF-IDF')\n",
    "plt.show()"
   ]
  },
  {
   "cell_type": "code",
   "execution_count": 35,
   "metadata": {},
   "outputs": [
    {
     "name": "stdout",
     "output_type": "stream",
     "text": [
      "================ TF-IDF ================\n"
     ]
    },
    {
     "data": {
      "image/png": "[encoded data removed]",
      "text/plain": [
       "<Figure size 432x288 with 1 Axes>"
      ]
     },
     "metadata": {
      "needs_background": "light"
     },
     "output_type": "display_data"
    },
    {
     "data": {
      "image/png": "[encoded data removed]",
      "text/plain": [
       "<Figure size 432x288 with 1 Axes>"
      ]
     },
     "metadata": {
      "needs_background": "light"
     },
     "output_type": "display_data"
    }
   ],
   "source": [
    "N = 100\n",
    "precision = []\n",
    "recall = []\n",
    "print(\"================ TF-IDF ================\")\n",
    "for i in _10qry:\n",
    "    #print(lst[i].head(N))\n",
    "    c = 0\n",
    "    #print(\"== RELEVANT ==\")\n",
    "    for j in range(N):\n",
    "        if lst[i].index[j] in relevant[i%len(_10qry)]:\n",
    "            #print(lst[i].index[j], end=' ')\n",
    "            c+=1\n",
    "    #print(\"\\n\",relevant[i%len(_10qry)])\n",
    "    #print(\"Query: \",(i%len(_10qry))+1)\n",
    "    #print(\"Precision: \", '{:.3f}'.format(c/N))\n",
    "    #print(\"Recall: \", '{:.3f}'.format(c/len(relevant[i%len(_10qry)])))\n",
    "    precision.append(c/N)\n",
    "    recall.append(c/len(relevant[i%len(_10qry)]))\n",
    "    #print(\"==============\")\n",
    "plt.plot(range(1,len(_10qry)+1),precision)\n",
    "plt.ylabel('Precision for the {:} documents'.format(N))\n",
    "plt.xlabel('TF-IDF')\n",
    "plt.show()\n",
    "plt.plot(range(1,len(_10qry)+1),recall)\n",
    "plt.ylabel('Recall for the {:} documents'.format(N))\n",
    "plt.xlabel('TF-IDF')\n",
    "plt.show()"
   ]
  },
  {
   "cell_type": "code",
   "execution_count": 36,
   "metadata": {},
   "outputs": [
    {
     "name": "stdout",
     "output_type": "stream",
     "text": [
      "================ TF-IDF ================\n"
     ]
    },
    {
     "data": {
      "image/png": "[encoded data removed]",
      "text/plain": [
       "<Figure size 432x288 with 1 Axes>"
      ]
     },
     "metadata": {
      "needs_background": "light"
     },
     "output_type": "display_data"
    },
    {
     "data": {
      "image/png": "[encoded data removed]",
      "text/plain": [
       "<Figure size 432x288 with 1 Axes>"
      ]
     },
     "metadata": {
      "needs_background": "light"
     },
     "output_type": "display_data"
    }
   ],
   "source": [
    "N = 500\n",
    "precision = []\n",
    "recall = []\n",
    "print(\"================ TF-IDF ================\")\n",
    "for i in _10qry:\n",
    "    #print(lst[i].head(N))\n",
    "    c = 0\n",
    "    #print(\"== RELEVANT ==\")\n",
    "    for j in range(N):\n",
    "        if lst[i].index[j] in relevant[i%len(_10qry)]:\n",
    "            #print(lst[i].index[j], end=' ')\n",
    "            c+=1\n",
    "    #print(\"\\n\",relevant[i%len(_10qry)])\n",
    "    #print(\"Query: \",(i%len(_10qry))+1)\n",
    "    #print(\"Precision: \", '{:.3f}'.format(c/N))\n",
    "    #print(\"Recall: \", '{:.3f}'.format(c/len(relevant[i%len(_10qry)])))\n",
    "    #print(\"==============\")\n",
    "    precision.append(c/N)\n",
    "    recall.append(c/len(relevant[i%len(_10qry)]))\n",
    "plt.plot(range(1,len(_10qry)+1),precision)\n",
    "plt.ylabel('Precision for the {:} documents'.format(N))\n",
    "plt.xlabel('TF-IDF')\n",
    "plt.show()\n",
    "plt.plot(range(1,len(_10qry)+1),recall)\n",
    "plt.ylabel('Recall for the {:} documents'.format(N))\n",
    "plt.xlabel('TF-IDF')\n",
    "plt.show()"
   ]
  },
  {
   "cell_type": "code",
   "execution_count": null,
   "metadata": {},
   "outputs": [],
   "source": []
  }
 ],
 "metadata": {
  "kernelspec": {
   "display_name": "Python 3",
   "language": "python",
   "name": "python3"
  },
  "language_info": {
   "codemirror_mode": {
    "name": "ipython",
    "version": 3
   },
   "file_extension": ".py",
   "mimetype": "text/x-python",
   "name": "python",
   "nbconvert_exporter": "python",
   "pygments_lexer": "ipython3",
   "version": "3.7.1"
  }
 },
 "nbformat": 4,
 "nbformat_minor": 2
}
